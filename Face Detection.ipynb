{
 "cells": [
  {
   "cell_type": "markdown",
   "metadata": {},
   "source": [
    "# Face Detection"
   ]
  },
  {
   "cell_type": "markdown",
   "metadata": {},
   "source": [
    "## Importing Necessary Packages"
   ]
  },
  {
   "cell_type": "code",
   "execution_count": 8,
   "metadata": {},
   "outputs": [],
   "source": [
    "import csv\n",
    "import cv2\n",
    "import os\n",
    "import time\n",
    "import numpy as np\n",
    "from datetime import datetime\n",
    "from PIL import Image"
   ]
  },
  {
   "cell_type": "markdown",
   "metadata": {},
   "source": [
    "## Defining Classifier and Recogniser"
   ]
  },
  {
   "cell_type": "markdown",
   "metadata": {},
   "source": [
    "### Haar Cascade Classifier\n",
    "### LBPH Face Recognizer"
   ]
  },
  {
   "cell_type": "code",
   "execution_count": 9,
   "metadata": {},
   "outputs": [],
   "source": [
    "path = \"dataset\"\n",
    "rec = cv2.face.LBPHFaceRecognizer_create()\n",
    "haar_xml= \"haarcascade_frontalface_default.xml\"\n",
    "face_detector = cv2.CascadeClassifier(haar_xml)"
   ]
  },
  {
   "cell_type": "markdown",
   "metadata": {},
   "source": [
    "### Function to Label Images"
   ]
  },
  {
   "cell_type": "code",
   "execution_count": 10,
   "metadata": {},
   "outputs": [],
   "source": [
    "def ImageLabel(path):\n",
    "    IPaths = [os.path.join(path,f) for f in os.listdir(path)]\n",
    "    Sample = []\n",
    "    ID = []\n",
    "    Names = []\n",
    "    for IPath in IPaths:\n",
    "        img = np.array(Image.open(IPath).convert('L'))\n",
    "        l = os.path.split(IPath)[-1].split(\"_\")\n",
    "        id = int(l[1])\n",
    "        name = l[0]\n",
    "        \n",
    "        # Function to detect Face from an Image.\n",
    "        faces = face_detector.detectMultiScale(img)\n",
    "        \n",
    "        for x,y,w,h in faces:\n",
    "            Sample.append(img[y:y+h, x:x+w])\n",
    "            ID.append(id)\n",
    "            Names.append(name)\n",
    "    return Sample, ID, Names"
   ]
  },
  {
   "cell_type": "markdown",
   "metadata": {},
   "source": [
    "### Saving the Model as trainer.yml"
   ]
  },
  {
   "cell_type": "code",
   "execution_count": 11,
   "metadata": {},
   "outputs": [],
   "source": [
    "Sample, ID, Names = ImageLabel(path)\n",
    "\n",
    "# Training the Model to achieve better accuracy.\n",
    "rec.train(Sample,np.array(ID))\n",
    "\n",
    "# Saving the model to trainer.yml\n",
    "rec.write('trainer/trainer.yml')"
   ]
  },
  {
   "cell_type": "markdown",
   "metadata": {},
   "source": [
    "### Capturing Faces and Timestamping them"
   ]
  },
  {
   "cell_type": "code",
   "execution_count": 12,
   "metadata": {
    "scrolled": false
   },
   "outputs": [],
   "source": [
    "#Reading the Model from trainer.yml\n",
    "rec.read('trainer/trainer.yml')\n",
    "\n",
    "# Font to display on the webcam\n",
    "font = cv2.FONT_HERSHEY_SIMPLEX\n",
    "\n",
    "# Configuring WebCam to capture Images\n",
    "cam = cv2.VideoCapture(0)\n",
    "\n",
    "#Setting the dimensions of the Capture Window.\n",
    "cam.set(3,640)\n",
    "cam.set(4,480)\n",
    "\n",
    "# Saving the Timestamps with Names in time.csv sheet.\n",
    "file = open(\"time.csv\",'w',newline='')\n",
    "filewriter = csv.writer(file)\n",
    "\n",
    "# Writing the Header Row in the csv sheet.\n",
    "filewriter.writerow(['DATE','TIME','NAME'])\n",
    "\n",
    "# Minimum Height and Width of the Detector Box.\n",
    "minW = 0.1 * cam.get(3)\n",
    "minH = 0.1 * cam.get(4)\n",
    "\n",
    "# Variables used for Comparision.\n",
    "test = \"Unknown\"\n",
    "id = \"Unknown\"\n",
    "wr = [datetime.now().strftime(\"%d/%m/%Y\"),datetime.now().strftime(\"%H:%m:%S\"), id]\n",
    "pwr = [datetime.now().strftime(\"%d/%m/%Y\"),datetime.now().strftime(\"%H:%m:%S\"),id]\n",
    "\n",
    "# To be run continously until Interrupted or Stopped.\n",
    "while(True):\n",
    "    \n",
    "    # Read the WebCam Image frame by frame.\n",
    "    ret, img = cam.read()\n",
    "    \n",
    "    # Converting BGR images to Grayscale.\n",
    "    gray = cv2.cvtColor(img, cv2.COLOR_BGR2GRAY)\n",
    "    \n",
    "    # Detecting Faces which are Currently available through Webcam.\n",
    "    faces = face_detector.detectMultiScale(gray, 1.2, 5, minSize = (int(minW), int(minH)))\n",
    "    \n",
    "    # For one or more faces\n",
    "    for x,y,w,h in faces:\n",
    "        \n",
    "        # Creating a rectangle around the detected face.\n",
    "        # v2.rectangle(image, start_point, end_point, color, thickness)\n",
    "        cv2.rectangle(img, (x,y), (x+w,y+h), (255,255,255), 2)\n",
    "        \n",
    "        # Returns the ID number of the image along with the Confidence of the Image.\n",
    "        # Confidence is a method of measuring a feature with respect to the trained model.\n",
    "        # Similar to Accuracy. Lies in 0 (Match) to 100 (No Match)\n",
    "        id, confidence = rec.predict(gray[y:y+h,x:x+w])\n",
    "        \n",
    "        # If a registered person is detected. (50% threshold)\n",
    "        if confidence < 50:\n",
    "            idx = ID.index(id)\n",
    "            \n",
    "            # Extracts the name corresponding to the id returned by above prediction.\n",
    "            id = Names[idx]\n",
    "            \n",
    "            # Timestamping the exact Moment down to the second.\n",
    "            # DD/MM/YY HH:MM:SS\n",
    "            timestamp = datetime.now().strftime(\"%d/%m/%Y %H:%m:%S\")\n",
    "            \n",
    "            # Creating a Object to store the exact Timestamp along with the name of detected person.\n",
    "            wr = [datetime.now().strftime(\"%d/%m/%Y\"),datetime.now().strftime(\"%H:%m:%S\"), id]\n",
    "            \n",
    "            # If Timestamps are different\n",
    "            if pwr[1] != wr[1] and id!= \"Unknown\":\n",
    "\n",
    "                # Write into the Sheet\n",
    "                filewriter.writerow(wr)\n",
    "            confidence = '{0}%'.format(round(100-confidence))\n",
    "        \n",
    "        # If non-registered person is detected.\n",
    "        else:\n",
    "            id = \"Unknown\"\n",
    "            confidence = '{0}%'.format(round(100-confidence))\n",
    "            \n",
    "            \n",
    "        # Writing Text above the detection box.\n",
    "        cv2.putText(img, str(id), (x, y-5), font, 0.5, (0,255,255), 2)\n",
    "        cv2.putText(img, str(confidence), (x+w-50, y-5), font, 0.5, (0,0,255), 2)\n",
    "    \n",
    "    # Displaying the Camera Stream.\n",
    "    cv2.imshow(\"Camera\", img)\n",
    "    \n",
    "    test = id\n",
    "    pwr = wr\n",
    "    \n",
    "    # Press Esc to stop execution.\n",
    "    k = cv2.waitKey(100)\n",
    "    if k == 27:\n",
    "        file.close()\n",
    "        break\n",
    "    \n",
    "# Deactivationg the Camera.\n",
    "cam.release()\n",
    "\n",
    "# Destroy all Created Windows.\n",
    "cv2.destroyAllWindows()"
   ]
  },
  {
   "cell_type": "code",
   "execution_count": null,
   "metadata": {},
   "outputs": [],
   "source": []
  }
 ],
 "metadata": {
  "kernelspec": {
   "display_name": "Python 3",
   "language": "python",
   "name": "python3"
  },
  "language_info": {
   "codemirror_mode": {
    "name": "ipython",
    "version": 3
   },
   "file_extension": ".py",
   "mimetype": "text/x-python",
   "name": "python",
   "nbconvert_exporter": "python",
   "pygments_lexer": "ipython3",
   "version": "3.7.9"
  }
 },
 "nbformat": 4,
 "nbformat_minor": 4
}
