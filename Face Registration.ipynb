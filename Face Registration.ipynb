{
 "cells": [
  {
   "cell_type": "markdown",
   "metadata": {},
   "source": [
    "# Registering Faces into the Database"
   ]
  },
  {
   "cell_type": "markdown",
   "metadata": {},
   "source": [
    "### Importing Necessary Packages"
   ]
  },
  {
   "cell_type": "code",
   "execution_count": 1,
   "metadata": {},
   "outputs": [],
   "source": [
    "import cv2\n",
    "import os\n",
    "import numpy as np\n",
    "import datetime"
   ]
  },
  {
   "cell_type": "markdown",
   "metadata": {},
   "source": [
    "### Setting Webcam to capture Images."
   ]
  },
  {
   "cell_type": "code",
   "execution_count": 2,
   "metadata": {},
   "outputs": [],
   "source": [
    "# Setting up Web-Cam\n",
    "cam = cv2.VideoCapture(0)"
   ]
  },
  {
   "cell_type": "markdown",
   "metadata": {},
   "source": [
    "### Implementing Haar-Cascade Classifier for Frontal-Face Detection."
   ]
  },
  {
   "cell_type": "code",
   "execution_count": 3,
   "metadata": {},
   "outputs": [],
   "source": [
    "# Implementing Haar-Cascade\n",
    "haar_xml= \"haarcascade_frontalface_default.xml\"\n",
    "face_detector = cv2.CascadeClassifier(haar_xml)"
   ]
  },
  {
   "cell_type": "markdown",
   "metadata": {},
   "source": [
    "## Registering Faces"
   ]
  },
  {
   "cell_type": "code",
   "execution_count": 4,
   "metadata": {},
   "outputs": [
    {
     "name": "stdout",
     "output_type": "stream",
     "text": [
      "Enter Name =>Arvind\n",
      "Enter ID =>1\n"
     ]
    }
   ],
   "source": [
    "# Enter name of Student/Faculty/Staff\n",
    "face_name = input(\"Enter Name =>\")\n",
    "\n",
    "# Enter ID [ 1 2 3 . . .]\n",
    "face_id = input(\"Enter ID =>\")\n",
    "c = 1\n",
    "\n",
    "# Capturing 50 Images of the Person.\n",
    "while(True):\n",
    "    _ , img = cam.read()\n",
    "    # Converting to Grayscale Image\n",
    "    g = cv2.cvtColor(img, cv2.COLOR_BGR2GRAY)\n",
    "    \n",
    "    # Detecting Faces from the Web-Cam\n",
    "    #detectMultiScale(img_name, scale, minNeighbors)\n",
    "    face = face_detector.detectMultiScale(g, 1.3, 5)\n",
    "    \n",
    "    # Storing faces\n",
    "    for x,y,w,h in face:\n",
    "        #cv2.rectangle(image, start_point, end_point, color, thickness)\n",
    "        cv2.rectangle(img, (x,y), (x+w, y+h), (255,255,255), 2)\n",
    "        \n",
    "        # Saving Captured Images in a folder.\n",
    "        cv2.imwrite(\"dataset/\" + str(face_name)+ \"_\" + str(face_id)+ \"_\" + str(c) + \".jpg\", g[y:y+h, x:x+w])\n",
    "        \n",
    "        # Displaying the Current Camera Input.\n",
    "        cv2.imshow(\"Registering Face\", img)\n",
    "        \n",
    "        c += 1\n",
    "        \n",
    "    k = cv2.waitKey(100)\n",
    "    # Press Esc to stop the process.\n",
    "    if k == 27:\n",
    "        break\n",
    "    # Automatically Stops after taking 50 Samples\n",
    "    elif c >50:\n",
    "        break\n",
    "        \n",
    "# Deactivationg the Camera.\n",
    "cam.release()\n",
    "\n",
    "# Destroy all Created Windows.\n",
    "cv2.destroyAllWindows()"
   ]
  },
  {
   "cell_type": "code",
   "execution_count": null,
   "metadata": {},
   "outputs": [],
   "source": []
  },
  {
   "cell_type": "code",
   "execution_count": null,
   "metadata": {},
   "outputs": [],
   "source": []
  }
 ],
 "metadata": {
  "kernelspec": {
   "display_name": "Python 3",
   "language": "python",
   "name": "python3"
  },
  "language_info": {
   "codemirror_mode": {
    "name": "ipython",
    "version": 3
   },
   "file_extension": ".py",
   "mimetype": "text/x-python",
   "name": "python",
   "nbconvert_exporter": "python",
   "pygments_lexer": "ipython3",
   "version": "3.7.9"
  }
 },
 "nbformat": 4,
 "nbformat_minor": 4
}
